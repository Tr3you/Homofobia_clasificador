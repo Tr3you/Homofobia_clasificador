{
 "cells": [
  {
   "cell_type": "markdown",
   "metadata": {},
   "source": [
    "# **Third Assignment: Homophobic tweets classifier**\n",
    "\n",
    "### - Armando Miguel Tapia Meza\n",
    "### - Erick Jose Ruiz Acosta"
   ]
  },
  {
   "cell_type": "code",
   "execution_count": 82,
   "metadata": {},
   "outputs": [],
   "source": [
    "from logic.text_processing import TextProcessing\n",
    "from logic.lexical_vectorizer import LexicalVectorizer\n",
    "import pandas as pd\n",
    "import numpy as np\n",
    "import seaborn as sns\n",
    "from collections import Counter\n",
    "from matplotlib import pyplot as plt\n",
    "from logic.stratified_sampling import random_stratified_sampling\n",
    "from imblearn.over_sampling import RandomOverSampler\n",
    "from sklearn.feature_extraction.text import TfidfVectorizer\n",
    "from sklearn.pipeline import FeatureUnion\n",
    "\n",
    "from root import DIR_INPUT"
   ]
  },
  {
   "cell_type": "code",
   "execution_count": 83,
   "metadata": {},
   "outputs": [],
   "source": [
    "text_procesing = TextProcessing(lang='es')"
   ]
  },
  {
   "cell_type": "markdown",
   "metadata": {},
   "source": [
    "## **Preprocesamiento**\n",
    "\n",
    "### Descripción del contenido de las columnas\n",
    "\n",
    "- Id : Identificación unica del tweet\n",
    "- Date : Tiempo universal coordinado (UTC) en el que el tweet fue creado\n",
    "- Tweet : Texto en formato UTF8 de la actualización de estado\n",
    "- Event : Indica si un tweet promueve o no la homofobia (1 para si y 0 para no)"
   ]
  },
  {
   "cell_type": "markdown",
   "metadata": {},
   "source": [
    "### se cargan los datos"
   ]
  },
  {
   "cell_type": "code",
   "execution_count": 84,
   "metadata": {},
   "outputs": [],
   "source": [
    "df = pd.read_csv('{0}{1}.csv'.format(DIR_INPUT, 'homofobia'), sep=',')"
   ]
  },
  {
   "cell_type": "code",
   "execution_count": 85,
   "metadata": {},
   "outputs": [
    {
     "name": "stdout",
     "output_type": "stream",
     "text": [
      "<class 'pandas.core.frame.DataFrame'>\n",
      "RangeIndex: 440 entries, 0 to 439\n",
      "Data columns (total 4 columns):\n",
      " #   Column  Non-Null Count  Dtype \n",
      "---  ------  --------------  ----- \n",
      " 0   Id      440 non-null    int64 \n",
      " 1   Date    440 non-null    object\n",
      " 2   Tweet   440 non-null    object\n",
      " 3   Event   440 non-null    int64 \n",
      "dtypes: int64(2), object(2)\n",
      "memory usage: 13.9+ KB\n"
     ]
    }
   ],
   "source": [
    "df.info()"
   ]
  },
  {
   "cell_type": "code",
   "execution_count": 86,
   "metadata": {},
   "outputs": [
    {
     "data": {
      "text/html": [
       "<div>\n",
       "<style scoped>\n",
       "    .dataframe tbody tr th:only-of-type {\n",
       "        vertical-align: middle;\n",
       "    }\n",
       "\n",
       "    .dataframe tbody tr th {\n",
       "        vertical-align: top;\n",
       "    }\n",
       "\n",
       "    .dataframe thead th {\n",
       "        text-align: right;\n",
       "    }\n",
       "</style>\n",
       "<table border=\"1\" class=\"dataframe\">\n",
       "  <thead>\n",
       "    <tr style=\"text-align: right;\">\n",
       "      <th></th>\n",
       "      <th>Id</th>\n",
       "      <th>Date</th>\n",
       "      <th>Tweet</th>\n",
       "      <th>Event</th>\n",
       "    </tr>\n",
       "  </thead>\n",
       "  <tbody>\n",
       "    <tr>\n",
       "      <th>0</th>\n",
       "      <td>1457324921235939330</td>\n",
       "      <td>Sun Nov 07 12:31:51 +0000 2021</td>\n",
       "      <td>1 millon de presupuesto por arepera para 10 a...</td>\n",
       "      <td>1</td>\n",
       "    </tr>\n",
       "    <tr>\n",
       "      <th>1</th>\n",
       "      <td>1456239809098289161</td>\n",
       "      <td>Thu Nov 04 12:40:00 +0000 2021</td>\n",
       "      <td>Ahh ya entiendo eres arepera</td>\n",
       "      <td>1</td>\n",
       "    </tr>\n",
       "    <tr>\n",
       "      <th>2</th>\n",
       "      <td>1457071812920053760</td>\n",
       "      <td>Sat Nov 06 19:46:05 +0000 2021</td>\n",
       "      <td>creo que deberiamos hacer mas  canciones que ...</td>\n",
       "      <td>0</td>\n",
       "    </tr>\n",
       "    <tr>\n",
       "      <th>3</th>\n",
       "      <td>1451247469480796163</td>\n",
       "      <td>Thu Oct 21 18:02:14 +0000 2021</td>\n",
       "      <td>Que tristeza tan grande marica uno bien ilusi...</td>\n",
       "      <td>0</td>\n",
       "    </tr>\n",
       "    <tr>\n",
       "      <th>4</th>\n",
       "      <td>1457712681859878924</td>\n",
       "      <td>Mon Nov 08 14:12:41 +0000 2021</td>\n",
       "      <td>\"Los maricones no deberían estar en la Guardia...</td>\n",
       "      <td>1</td>\n",
       "    </tr>\n",
       "  </tbody>\n",
       "</table>\n",
       "</div>"
      ],
      "text/plain": [
       "                    Id                            Date  \\\n",
       "0  1457324921235939330  Sun Nov 07 12:31:51 +0000 2021   \n",
       "1  1456239809098289161  Thu Nov 04 12:40:00 +0000 2021   \n",
       "2  1457071812920053760  Sat Nov 06 19:46:05 +0000 2021   \n",
       "3  1451247469480796163  Thu Oct 21 18:02:14 +0000 2021   \n",
       "4  1457712681859878924  Mon Nov 08 14:12:41 +0000 2021   \n",
       "\n",
       "                                               Tweet  Event  \n",
       "0   1 millon de presupuesto por arepera para 10 a...      1  \n",
       "1                       Ahh ya entiendo eres arepera      1  \n",
       "2   creo que deberiamos hacer mas  canciones que ...      0  \n",
       "3   Que tristeza tan grande marica uno bien ilusi...      0  \n",
       "4  \"Los maricones no deberían estar en la Guardia...      1  "
      ]
     },
     "execution_count": 86,
     "metadata": {},
     "output_type": "execute_result"
    }
   ],
   "source": [
    "df.head()"
   ]
  },
  {
   "cell_type": "code",
   "execution_count": 87,
   "metadata": {},
   "outputs": [
    {
     "data": {
      "text/plain": [
       "0"
      ]
     },
     "execution_count": 87,
     "metadata": {},
     "output_type": "execute_result"
    }
   ],
   "source": [
    "df.duplicated().sum()"
   ]
  },
  {
   "cell_type": "code",
   "execution_count": 88,
   "metadata": {},
   "outputs": [
    {
     "data": {
      "text/plain": [
       "Id       0\n",
       "Date     0\n",
       "Tweet    0\n",
       "Event    0\n",
       "dtype: int64"
      ]
     },
     "execution_count": 88,
     "metadata": {},
     "output_type": "execute_result"
    }
   ],
   "source": [
    "#verificacion de valores faltantes por columna\n",
    "df.isna().sum()"
   ]
  },
  {
   "cell_type": "code",
   "execution_count": 89,
   "metadata": {},
   "outputs": [
    {
     "data": {
      "text/plain": [
       "count     440\n",
       "unique      2\n",
       "top         1\n",
       "freq      259\n",
       "Name: Event, dtype: object"
      ]
     },
     "execution_count": 89,
     "metadata": {},
     "output_type": "execute_result"
    }
   ],
   "source": [
    "# estadisticos categoricos para la columna objetivo \n",
    "df['Event'] = df['Event'].astype(str)\n",
    "df['Event'].describe()"
   ]
  },
  {
   "cell_type": "markdown",
   "metadata": {},
   "source": [
    "### Gráficas y distribuciones de frecuencia"
   ]
  },
  {
   "cell_type": "code",
   "execution_count": 90,
   "metadata": {},
   "outputs": [
    {
     "data": {
      "image/png": "[encoded data removed]",
      "text/plain": [
       "<Figure size 1080x576 with 2 Axes>"
      ]
     },
     "metadata": {
      "needs_background": "light"
     },
     "output_type": "display_data"
    }
   ],
   "source": [
    "fig, axes = plt.subplots(1,2,figsize=(15,8))\n",
    "pos = np.arange(len(df['Event'].unique()[:2]))\n",
    "bar = sns.countplot(ax=axes[0],x='Event',data=df ,order = df['Event'].value_counts().index)\n",
    "axes[0].tick_params(top=False, bottom=False, left=False, right=False, labelleft=False, labelbottom=True)\n",
    "for p in bar.patches:\n",
    "    bar.annotate(p.get_height(), \n",
    "                   (p.get_x() + p.get_width() / 2., p.get_height()), \n",
    "                   ha = 'center', va = 'center', \n",
    "                   xytext = (0, 9), \n",
    "                   textcoords = 'offset points')\n",
    "for pos in ['right', 'top', 'bottom', 'left']:\n",
    "    axes[0].spines[pos].set_visible(False)\n",
    "bar.set_ylabel('')\n",
    "bar.set_xlabel('Evento', size=13)\n",
    "bar.set_title('Conteo de tweets por evento: 1 si hay homofobia 0 si no hay', size=15)\n",
    "pie = axes[1].pie(x=df['Event'].value_counts(),labels = df['Event'].unique()[:2],autopct='%.0f%%')\n",
    "_=axes[1].set_title('Distribución de los eventos', size=15)"
   ]
  },
  {
   "cell_type": "markdown",
   "metadata": {},
   "source": [
    "### Aplicamos el metodo transformer de la clase TextProcesing"
   ]
  },
  {
   "cell_type": "code",
   "execution_count": 91,
   "metadata": {},
   "outputs": [
    {
     "data": {
      "text/html": [
       "<div>\n",
       "<style scoped>\n",
       "    .dataframe tbody tr th:only-of-type {\n",
       "        vertical-align: middle;\n",
       "    }\n",
       "\n",
       "    .dataframe tbody tr th {\n",
       "        vertical-align: top;\n",
       "    }\n",
       "\n",
       "    .dataframe thead th {\n",
       "        text-align: right;\n",
       "    }\n",
       "</style>\n",
       "<table border=\"1\" class=\"dataframe\">\n",
       "  <thead>\n",
       "    <tr style=\"text-align: right;\">\n",
       "      <th></th>\n",
       "      <th>Id</th>\n",
       "      <th>Date</th>\n",
       "      <th>Tweet</th>\n",
       "      <th>Event</th>\n",
       "      <th>Clean_tweet</th>\n",
       "    </tr>\n",
       "  </thead>\n",
       "  <tbody>\n",
       "    <tr>\n",
       "      <th>0</th>\n",
       "      <td>1457324921235939330</td>\n",
       "      <td>Sun Nov 07 12:31:51 +0000 2021</td>\n",
       "      <td>1 millon de presupuesto por arepera para 10 a...</td>\n",
       "      <td>1</td>\n",
       "      <td>millon de presupuesto por arepera para anos no...</td>\n",
       "    </tr>\n",
       "    <tr>\n",
       "      <th>1</th>\n",
       "      <td>1456239809098289161</td>\n",
       "      <td>Thu Nov 04 12:40:00 +0000 2021</td>\n",
       "      <td>Ahh ya entiendo eres arepera</td>\n",
       "      <td>1</td>\n",
       "      <td>ahh ya entiendo eres arepera</td>\n",
       "    </tr>\n",
       "    <tr>\n",
       "      <th>2</th>\n",
       "      <td>1457071812920053760</td>\n",
       "      <td>Sat Nov 06 19:46:05 +0000 2021</td>\n",
       "      <td>creo que deberiamos hacer mas  canciones que ...</td>\n",
       "      <td>0</td>\n",
       "      <td>creo que deberiamos hacer mas canciones que ha...</td>\n",
       "    </tr>\n",
       "    <tr>\n",
       "      <th>3</th>\n",
       "      <td>1451247469480796163</td>\n",
       "      <td>Thu Oct 21 18:02:14 +0000 2021</td>\n",
       "      <td>Que tristeza tan grande marica uno bien ilusi...</td>\n",
       "      <td>0</td>\n",
       "      <td>que tristeza tan grande marica uno bien ilusio...</td>\n",
       "    </tr>\n",
       "    <tr>\n",
       "      <th>4</th>\n",
       "      <td>1457712681859878924</td>\n",
       "      <td>Mon Nov 08 14:12:41 +0000 2021</td>\n",
       "      <td>\"Los maricones no deberían estar en la Guardia...</td>\n",
       "      <td>1</td>\n",
       "      <td>los maricones no deberian estar en la guardia ...</td>\n",
       "    </tr>\n",
       "    <tr>\n",
       "      <th>...</th>\n",
       "      <td>...</td>\n",
       "      <td>...</td>\n",
       "      <td>...</td>\n",
       "      <td>...</td>\n",
       "      <td>...</td>\n",
       "    </tr>\n",
       "    <tr>\n",
       "      <th>435</th>\n",
       "      <td>1462118599271727104</td>\n",
       "      <td>Sat Nov 20 18:00:13 +0000 2021</td>\n",
       "      <td>Yo sí shippeo este matrimonio gay interracial ...</td>\n",
       "      <td>0</td>\n",
       "      <td>yo si shippeo este matrimonio gay interracial ...</td>\n",
       "    </tr>\n",
       "    <tr>\n",
       "      <th>436</th>\n",
       "      <td>1455272456911048705</td>\n",
       "      <td>Mon Nov 01 20:36:06 +0000 2021</td>\n",
       "      <td>Yo tenia dudas de que este man era cagasten pe...</td>\n",
       "      <td>1</td>\n",
       "      <td>yo tenia dudas de que este man era cagasten pe...</td>\n",
       "    </tr>\n",
       "    <tr>\n",
       "      <th>437</th>\n",
       "      <td>1457067791601872906</td>\n",
       "      <td>Sat Nov 06 19:30:07 +0000 2021</td>\n",
       "      <td>¿Entonces uno puede ser culpable e inocente? ¿...</td>\n",
       "      <td>0</td>\n",
       "      <td>entonces uno puede ser culpable e inocente un ...</td>\n",
       "    </tr>\n",
       "    <tr>\n",
       "      <th>438</th>\n",
       "      <td>1461842014010585093</td>\n",
       "      <td>Fri Nov 19 23:41:10 +0000 2021</td>\n",
       "      <td>¿les dejaría de gustar un chico por ser afemin...</td>\n",
       "      <td>0</td>\n",
       "      <td>les dejaria de gustar un chico por ser afemina...</td>\n",
       "    </tr>\n",
       "    <tr>\n",
       "      <th>439</th>\n",
       "      <td>1462541318475894787</td>\n",
       "      <td>Sun Nov 21 22:10:36 +0000 2021</td>\n",
       "      <td>﻿Se unían todos los prejuicios de la época con...</td>\n",
       "      <td>0</td>\n",
       "      <td>se unian todos los prejuicios de la epoca cont...</td>\n",
       "    </tr>\n",
       "  </tbody>\n",
       "</table>\n",
       "<p>440 rows × 5 columns</p>\n",
       "</div>"
      ],
      "text/plain": [
       "                      Id                            Date  \\\n",
       "0    1457324921235939330  Sun Nov 07 12:31:51 +0000 2021   \n",
       "1    1456239809098289161  Thu Nov 04 12:40:00 +0000 2021   \n",
       "2    1457071812920053760  Sat Nov 06 19:46:05 +0000 2021   \n",
       "3    1451247469480796163  Thu Oct 21 18:02:14 +0000 2021   \n",
       "4    1457712681859878924  Mon Nov 08 14:12:41 +0000 2021   \n",
       "..                   ...                             ...   \n",
       "435  1462118599271727104  Sat Nov 20 18:00:13 +0000 2021   \n",
       "436  1455272456911048705  Mon Nov 01 20:36:06 +0000 2021   \n",
       "437  1457067791601872906  Sat Nov 06 19:30:07 +0000 2021   \n",
       "438  1461842014010585093  Fri Nov 19 23:41:10 +0000 2021   \n",
       "439  1462541318475894787  Sun Nov 21 22:10:36 +0000 2021   \n",
       "\n",
       "                                                 Tweet Event  \\\n",
       "0     1 millon de presupuesto por arepera para 10 a...     1   \n",
       "1                         Ahh ya entiendo eres arepera     1   \n",
       "2     creo que deberiamos hacer mas  canciones que ...     0   \n",
       "3     Que tristeza tan grande marica uno bien ilusi...     0   \n",
       "4    \"Los maricones no deberían estar en la Guardia...     1   \n",
       "..                                                 ...   ...   \n",
       "435  Yo sí shippeo este matrimonio gay interracial ...     0   \n",
       "436  Yo tenia dudas de que este man era cagasten pe...     1   \n",
       "437  ¿Entonces uno puede ser culpable e inocente? ¿...     0   \n",
       "438  ¿les dejaría de gustar un chico por ser afemin...     0   \n",
       "439  ﻿Se unían todos los prejuicios de la época con...     0   \n",
       "\n",
       "                                           Clean_tweet  \n",
       "0    millon de presupuesto por arepera para anos no...  \n",
       "1                         ahh ya entiendo eres arepera  \n",
       "2    creo que deberiamos hacer mas canciones que ha...  \n",
       "3    que tristeza tan grande marica uno bien ilusio...  \n",
       "4    los maricones no deberian estar en la guardia ...  \n",
       "..                                                 ...  \n",
       "435  yo si shippeo este matrimonio gay interracial ...  \n",
       "436  yo tenia dudas de que este man era cagasten pe...  \n",
       "437  entonces uno puede ser culpable e inocente un ...  \n",
       "438  les dejaria de gustar un chico por ser afemina...  \n",
       "439  se unian todos los prejuicios de la epoca cont...  \n",
       "\n",
       "[440 rows x 5 columns]"
      ]
     },
     "execution_count": 91,
     "metadata": {},
     "output_type": "execute_result"
    }
   ],
   "source": [
    "\n",
    "df['Clean_tweet'] = [text_procesing.transformer(row) for row in df['Tweet'].tolist()]\n",
    "df"
   ]
  },
  {
   "cell_type": "markdown",
   "metadata": {},
   "source": [
    "### Dividimos el dataset usando muestreo aleatorio estratificado"
   ]
  },
  {
   "cell_type": "code",
   "execution_count": 92,
   "metadata": {},
   "outputs": [],
   "source": [
    "x_train, y_train, x_test, y_test = random_stratified_sampling(df,y='Event',test_size=0.2)"
   ]
  },
  {
   "cell_type": "markdown",
   "metadata": {},
   "source": [
    "### verificacion del balanceo de las clases tanto para las pruebas como para el entrenamiento"
   ]
  },
  {
   "cell_type": "code",
   "execution_count": 93,
   "metadata": {},
   "outputs": [
    {
     "data": {
      "text/plain": [
       "1    44\n",
       "0    44\n",
       "Name: Event, dtype: int64"
      ]
     },
     "execution_count": 93,
     "metadata": {},
     "output_type": "execute_result"
    }
   ],
   "source": [
    "\n",
    "y_test.value_counts()"
   ]
  },
  {
   "cell_type": "code",
   "execution_count": 94,
   "metadata": {},
   "outputs": [
    {
     "data": {
      "text/plain": [
       "1    215\n",
       "0    137\n",
       "Name: Event, dtype: int64"
      ]
     },
     "execution_count": 94,
     "metadata": {},
     "output_type": "execute_result"
    }
   ],
   "source": [
    "y_train.value_counts()"
   ]
  },
  {
   "cell_type": "markdown",
   "metadata": {},
   "source": [
    "### Vista final del dataset despues del preprocesamiento"
   ]
  },
  {
   "cell_type": "code",
   "execution_count": 95,
   "metadata": {},
   "outputs": [
    {
     "data": {
      "text/html": [
       "<div>\n",
       "<style scoped>\n",
       "    .dataframe tbody tr th:only-of-type {\n",
       "        vertical-align: middle;\n",
       "    }\n",
       "\n",
       "    .dataframe tbody tr th {\n",
       "        vertical-align: top;\n",
       "    }\n",
       "\n",
       "    .dataframe thead th {\n",
       "        text-align: right;\n",
       "    }\n",
       "</style>\n",
       "<table border=\"1\" class=\"dataframe\">\n",
       "  <thead>\n",
       "    <tr style=\"text-align: right;\">\n",
       "      <th></th>\n",
       "      <th>Id</th>\n",
       "      <th>Date</th>\n",
       "      <th>Tweet</th>\n",
       "      <th>Clean_tweet</th>\n",
       "    </tr>\n",
       "  </thead>\n",
       "  <tbody>\n",
       "    <tr>\n",
       "      <th>0</th>\n",
       "      <td>1456239809098289161</td>\n",
       "      <td>Thu Nov 04 12:40:00 +0000 2021</td>\n",
       "      <td>Ahh ya entiendo eres arepera</td>\n",
       "      <td>ahh ya entiendo eres arepera</td>\n",
       "    </tr>\n",
       "    <tr>\n",
       "      <th>1</th>\n",
       "      <td>1457071812920053760</td>\n",
       "      <td>Sat Nov 06 19:46:05 +0000 2021</td>\n",
       "      <td>creo que deberiamos hacer mas  canciones que ...</td>\n",
       "      <td>creo que deberiamos hacer mas canciones que ha...</td>\n",
       "    </tr>\n",
       "    <tr>\n",
       "      <th>2</th>\n",
       "      <td>1451247469480796163</td>\n",
       "      <td>Thu Oct 21 18:02:14 +0000 2021</td>\n",
       "      <td>Que tristeza tan grande marica uno bien ilusi...</td>\n",
       "      <td>que tristeza tan grande marica uno bien ilusio...</td>\n",
       "    </tr>\n",
       "    <tr>\n",
       "      <th>3</th>\n",
       "      <td>1457712681859878924</td>\n",
       "      <td>Mon Nov 08 14:12:41 +0000 2021</td>\n",
       "      <td>\"Los maricones no deberían estar en la Guardia...</td>\n",
       "      <td>los maricones no deberian estar en la guardia ...</td>\n",
       "    </tr>\n",
       "    <tr>\n",
       "      <th>4</th>\n",
       "      <td>1462547214446833665</td>\n",
       "      <td>Sun Nov 21 22:23:23 +0000 2021</td>\n",
       "      <td>#CuartoMilenio Yo ya me he perdido chicos ¿una...</td>\n",
       "      <td>hastag yo ya me he perdido chicos una psicofon...</td>\n",
       "    </tr>\n",
       "    <tr>\n",
       "      <th>...</th>\n",
       "      <td>...</td>\n",
       "      <td>...</td>\n",
       "      <td>...</td>\n",
       "      <td>...</td>\n",
       "    </tr>\n",
       "    <tr>\n",
       "      <th>347</th>\n",
       "      <td>1450652629487558661</td>\n",
       "      <td>Wed Oct 20 02:38:33 +0000 2021</td>\n",
       "      <td>Ya vas tu con tus vainas de cagasten</td>\n",
       "      <td>ya vas tu con tus vainas de cagasten</td>\n",
       "    </tr>\n",
       "    <tr>\n",
       "      <th>348</th>\n",
       "      <td>1451217720792526858</td>\n",
       "      <td>Thu Oct 21 16:04:01 +0000 2021</td>\n",
       "      <td>Yo no lo veo homofobo. Una es heterosexual y l...</td>\n",
       "      <td>yo no lo veo homofobo. una es heterosexual y l...</td>\n",
       "    </tr>\n",
       "    <tr>\n",
       "      <th>349</th>\n",
       "      <td>1462118599271727104</td>\n",
       "      <td>Sat Nov 20 18:00:13 +0000 2021</td>\n",
       "      <td>Yo sí shippeo este matrimonio gay interracial ...</td>\n",
       "      <td>yo si shippeo este matrimonio gay interracial ...</td>\n",
       "    </tr>\n",
       "    <tr>\n",
       "      <th>350</th>\n",
       "      <td>1457067791601872906</td>\n",
       "      <td>Sat Nov 06 19:30:07 +0000 2021</td>\n",
       "      <td>¿Entonces uno puede ser culpable e inocente? ¿...</td>\n",
       "      <td>entonces uno puede ser culpable e inocente un ...</td>\n",
       "    </tr>\n",
       "    <tr>\n",
       "      <th>351</th>\n",
       "      <td>1462541318475894787</td>\n",
       "      <td>Sun Nov 21 22:10:36 +0000 2021</td>\n",
       "      <td>﻿Se unían todos los prejuicios de la época con...</td>\n",
       "      <td>se unian todos los prejuicios de la epoca cont...</td>\n",
       "    </tr>\n",
       "  </tbody>\n",
       "</table>\n",
       "<p>352 rows × 4 columns</p>\n",
       "</div>"
      ],
      "text/plain": [
       "                      Id                            Date  \\\n",
       "0    1456239809098289161  Thu Nov 04 12:40:00 +0000 2021   \n",
       "1    1457071812920053760  Sat Nov 06 19:46:05 +0000 2021   \n",
       "2    1451247469480796163  Thu Oct 21 18:02:14 +0000 2021   \n",
       "3    1457712681859878924  Mon Nov 08 14:12:41 +0000 2021   \n",
       "4    1462547214446833665  Sun Nov 21 22:23:23 +0000 2021   \n",
       "..                   ...                             ...   \n",
       "347  1450652629487558661  Wed Oct 20 02:38:33 +0000 2021   \n",
       "348  1451217720792526858  Thu Oct 21 16:04:01 +0000 2021   \n",
       "349  1462118599271727104  Sat Nov 20 18:00:13 +0000 2021   \n",
       "350  1457067791601872906  Sat Nov 06 19:30:07 +0000 2021   \n",
       "351  1462541318475894787  Sun Nov 21 22:10:36 +0000 2021   \n",
       "\n",
       "                                                 Tweet  \\\n",
       "0                         Ahh ya entiendo eres arepera   \n",
       "1     creo que deberiamos hacer mas  canciones que ...   \n",
       "2     Que tristeza tan grande marica uno bien ilusi...   \n",
       "3    \"Los maricones no deberían estar en la Guardia...   \n",
       "4    #CuartoMilenio Yo ya me he perdido chicos ¿una...   \n",
       "..                                                 ...   \n",
       "347               Ya vas tu con tus vainas de cagasten   \n",
       "348  Yo no lo veo homofobo. Una es heterosexual y l...   \n",
       "349  Yo sí shippeo este matrimonio gay interracial ...   \n",
       "350  ¿Entonces uno puede ser culpable e inocente? ¿...   \n",
       "351  ﻿Se unían todos los prejuicios de la época con...   \n",
       "\n",
       "                                           Clean_tweet  \n",
       "0                         ahh ya entiendo eres arepera  \n",
       "1    creo que deberiamos hacer mas canciones que ha...  \n",
       "2    que tristeza tan grande marica uno bien ilusio...  \n",
       "3    los maricones no deberian estar en la guardia ...  \n",
       "4    hastag yo ya me he perdido chicos una psicofon...  \n",
       "..                                                 ...  \n",
       "347               ya vas tu con tus vainas de cagasten  \n",
       "348  yo no lo veo homofobo. una es heterosexual y l...  \n",
       "349  yo si shippeo este matrimonio gay interracial ...  \n",
       "350  entonces uno puede ser culpable e inocente un ...  \n",
       "351  se unian todos los prejuicios de la epoca cont...  \n",
       "\n",
       "[352 rows x 4 columns]"
      ]
     },
     "execution_count": 95,
     "metadata": {},
     "output_type": "execute_result"
    }
   ],
   "source": [
    "x_train"
   ]
  },
  {
   "cell_type": "markdown",
   "metadata": {},
   "source": [
    "## **Extraccion de caracteristicas**\n",
    "\n",
    "### Usaremos TF-IDF y vectorizacion lexica a traves de union de caracteristicas"
   ]
  },
  {
   "cell_type": "code",
   "execution_count": 96,
   "metadata": {},
   "outputs": [],
   "source": [
    "tfidf_vector = TfidfVectorizer(min_df=2, max_df=0.5, ngram_range=(1, 2))\n",
    "lexical_vectorizer = LexicalVectorizer(lang='es', text_processing=text_procesing)"
   ]
  },
  {
   "cell_type": "code",
   "execution_count": 97,
   "metadata": {},
   "outputs": [],
   "source": [
    "features_union = FeatureUnion([\n",
    "            ('tfidf_vector', tfidf_vector),\n",
    "            ('lexical_vector', lexical_vectorizer)\n",
    "        ])"
   ]
  },
  {
   "cell_type": "code",
   "execution_count": 98,
   "metadata": {},
   "outputs": [
    {
     "data": {
      "text/plain": [
       "<352x1057 sparse matrix of type '<class 'numpy.float64'>'\n",
       "\twith 8164 stored elements in Compressed Sparse Row format>"
      ]
     },
     "execution_count": 98,
     "metadata": {},
     "output_type": "execute_result"
    }
   ],
   "source": [
    "features_union.fit_transform(x_train['Clean_tweet'])"
   ]
  },
  {
   "cell_type": "code",
   "execution_count": 99,
   "metadata": {},
   "outputs": [],
   "source": [
    "x_train = features_union.transform(x_train['Clean_tweet'])\n",
    "x_test = features_union.transform(x_test['Clean_tweet'])"
   ]
  },
  {
   "cell_type": "code",
   "execution_count": 100,
   "metadata": {},
   "outputs": [
    {
     "data": {
      "text/plain": [
       "<352x1057 sparse matrix of type '<class 'numpy.float64'>'\n",
       "\twith 8164 stored elements in Compressed Sparse Row format>"
      ]
     },
     "execution_count": 100,
     "metadata": {},
     "output_type": "execute_result"
    }
   ],
   "source": [
    "x_train"
   ]
  },
  {
   "cell_type": "markdown",
   "metadata": {},
   "source": [
    "### Nos aseguramos de que los dataset con los target de prueba y de entrenamiento esten balanceados"
   ]
  },
  {
   "cell_type": "code",
   "execution_count": 101,
   "metadata": {},
   "outputs": [
    {
     "name": "stdout",
     "output_type": "stream",
     "text": [
      "Muestra de entrenamiento: [('0', 137), ('1', 215)]\n"
     ]
    }
   ],
   "source": [
    "print('Muestra de entrenamiento:', sorted(Counter(y_train).items()))"
   ]
  },
  {
   "cell_type": "code",
   "execution_count": 102,
   "metadata": {},
   "outputs": [
    {
     "name": "stdout",
     "output_type": "stream",
     "text": [
      "Muestra de pruebas: [('0', 44), ('1', 44)]\n"
     ]
    }
   ],
   "source": [
    "print('Muestra de pruebas:', sorted(Counter(y_test).items()))"
   ]
  },
  {
   "cell_type": "markdown",
   "metadata": {},
   "source": [
    "### Aplicaremos Oversampling para balancear las clases en y_train"
   ]
  },
  {
   "cell_type": "code",
   "execution_count": 103,
   "metadata": {},
   "outputs": [],
   "source": [
    "ros_train = RandomOverSampler(random_state=1000)\n",
    "x_train, y_train = ros_train.fit_resample(x_train, y_train)"
   ]
  },
  {
   "cell_type": "code",
   "execution_count": 104,
   "metadata": {},
   "outputs": [
    {
     "name": "stdout",
     "output_type": "stream",
     "text": [
      "Muestra de entrenamiento: [('0', 215), ('1', 215)]\n"
     ]
    }
   ],
   "source": [
    "print('Muestra de entrenamiento:', sorted(Counter(y_train).items()))"
   ]
  },
  {
   "cell_type": "markdown",
   "metadata": {},
   "source": [
    "## **Entrenamiento**\n",
    "\n",
    "### Clasificadores\n",
    "\n",
    "- Random Forest\n",
    "- Logistic Regression\n",
    "- SVM"
   ]
  },
  {
   "cell_type": "code",
   "execution_count": 105,
   "metadata": {},
   "outputs": [],
   "source": [
    "import multiprocessing\n",
    "from sklearn import svm\n",
    "from sklearn.ensemble import RandomForestClassifier\n",
    "from sklearn.linear_model import LogisticRegression"
   ]
  },
  {
   "cell_type": "code",
   "execution_count": 106,
   "metadata": {},
   "outputs": [],
   "source": [
    "class Classifiers(object):\n",
    "    cores = multiprocessing.cpu_count() - 1\n",
    "    dict_classifiers = dict()\n",
    "    dict_classifiers['SVM'] = svm.SVC(kernel='poly', degree=3, C=1)\n",
    "    dict_classifiers['RandomForest'] = RandomForestClassifier(n_estimators=100,max_features='auto',max_depth=None,min_samples_leaf=1,n_jobs=cores)\n",
    "    dict_classifiers['LogReg'] = LogisticRegression(penalty='l2', C=1.0)"
   ]
  },
  {
   "cell_type": "code",
   "execution_count": 107,
   "metadata": {},
   "outputs": [],
   "source": [
    "import csv\n",
    "from collections import Counter\n",
    "import datetime\n",
    "import os\n",
    "import warnings\n",
    "warnings.filterwarnings(\"ignore\")\n",
    "\n",
    "import numpy as np\n",
    "import pandas as pd\n",
    "from sklearn.metrics import accuracy_score\n",
    "from sklearn.metrics import classification_report\n",
    "from sklearn.model_selection import ShuffleSplit\n",
    "\n",
    "\n",
    "from root import DIR_RESULTS"
   ]
  },
  {
   "cell_type": "code",
   "execution_count": 108,
   "metadata": {},
   "outputs": [
    {
     "name": "stdout",
     "output_type": "stream",
     "text": [
      "\n",
      "\n",
      "\t\t - Sample train: [('0', 215), ('1', 215)]\n",
      "\t\t - Sample test: [('0', 44), ('1', 44)]\n",
      "\t\t - train: [('0', 215), ('1', 215)]\n",
      "\t\t - test: [('0', 44), ('1', 44)]\n",
      "\t+ Training...\n",
      "\n",
      "\n",
      "SVM  classifier \n",
      "\n",
      "\t+ Evaluation...\n",
      "              precision    recall  f1-score   support\n",
      "\n",
      "           0       0.86      0.82      0.84        44\n",
      "           1       0.83      0.86      0.84        44\n",
      "\n",
      "    accuracy                           0.84        88\n",
      "   macro avg       0.84      0.84      0.84        88\n",
      "weighted avg       0.84      0.84      0.84        88\n",
      "\n",
      "RandomForest  classifier \n",
      "\n",
      "\t+ Evaluation...\n",
      "              precision    recall  f1-score   support\n",
      "\n",
      "           0       0.82      0.75      0.79        44\n",
      "           1       0.77      0.84      0.80        44\n",
      "\n",
      "    accuracy                           0.80        88\n",
      "   macro avg       0.80      0.80      0.80        88\n",
      "weighted avg       0.80      0.80      0.80        88\n",
      "\n",
      "LogReg  classifier \n",
      "\n",
      "\t+ Evaluation...\n",
      "              precision    recall  f1-score   support\n",
      "\n",
      "           0       0.85      0.80      0.82        44\n",
      "           1       0.81      0.86      0.84        44\n",
      "\n",
      "    accuracy                           0.83        88\n",
      "   macro avg       0.83      0.83      0.83        88\n",
      "weighted avg       0.83      0.83      0.83        88\n",
      "\n"
     ]
    }
   ],
   "source": [
    "#Nombres de las columnas a crear en el archivo de salida\n",
    "fieldnames = ('model_name', 'classifier', 'accuracy_train', 'accuracy_test', 'classification_report', 'date')\n",
    "\n",
    "#Extraemos la fecha y hora en la que se realiza la iteración \n",
    "date_file = datetime.datetime.now().strftime(\"%Y-%m-%d %H-%M-%S\")\n",
    "\n",
    "\n",
    "#Instanciamos el objeto para aplicar validación cruzada \n",
    "k_fold = ShuffleSplit(n_splits=10, test_size=0.25, random_state=42)\n",
    "print('\\n')\n",
    "print('\\t\\t - train:', sorted(Counter(y_train).items()))\n",
    "print('\\t\\t - test:', sorted(Counter(y_test).items()))\n",
    "\n",
    "print('\\t+ Training...')\n",
    "print('\\n')\n",
    "result = {}\n",
    "\n",
    "#Creación del directorio de resultados\n",
    "directory = f\"homophobic_report_{date_file}\"\n",
    "\n",
    "parent_dir = DIR_RESULTS\n",
    "\n",
    "path = os.path.join(parent_dir, directory)\n",
    "\n",
    "os.mkdir(path)\n",
    "\n",
    "file_name = f\"homophobic_report_{date_file}.csv\"\n",
    "\n",
    "file_result = os.path.join(path, file_name)\n",
    "\n",
    "doc_path = file_result\n",
    "\n",
    "#Instanciamos nuestros clasificadores\n",
    "classifiers = Classifiers.dict_classifiers\n",
    "\n",
    "#Creamos el archivo e iniciamos el entrenamiento\n",
    "with open(file_result, 'w') as out_csv:\n",
    "    writer = csv.DictWriter(out_csv, fieldnames=fieldnames, delimiter=';', lineterminator='\\n')\n",
    "    writer.writeheader()\n",
    "    for clf_name, clf in classifiers.items():\n",
    "        print(clf_name, ' classifier', '\\n')\n",
    "        result['model_name'] = 'tf_idf_uni_bi'\n",
    "        result['classifier'] = clf_name\n",
    "        accuracies_scores = []\n",
    "        for train_index, test_index in k_fold.split(x_train, y_train):\n",
    "            data_train = x_train[train_index]\n",
    "            target_train = y_train[train_index]\n",
    "\n",
    "            data_test = x_train[test_index]\n",
    "            target_test = y_train[test_index]\n",
    "\n",
    "            clf.fit(data_train, target_train)\n",
    "            predict = clf.predict(data_test)\n",
    "            # Accuracy\n",
    "            accuracy = accuracy_score(target_test, predict)\n",
    "            accuracies_scores.append(accuracy)\n",
    "\n",
    "        average_accuracy = round(np.mean(accuracies_scores) * 100, 2)\n",
    "        result['accuracy_train'] = average_accuracy\n",
    "\n",
    "        y_predict = []\n",
    "        for features in x_test:\n",
    "            features = features.reshape(1, -1)\n",
    "            value = clf.predict(features)[0]\n",
    "            y_predict.append(value)\n",
    "\n",
    "        accuracy_predict = accuracy_score(y_test, y_predict)\n",
    "        result['accuracy_test'] = round(np.mean(accuracy_predict) * 100, 2)\n",
    "\n",
    "        labels = [0, 1]\n",
    "\n",
    "        target_names = ['Homophobic', 'Non Homophobic']\n",
    "\n",
    "        clf_report = classification_report(y_test,\n",
    "                                            y_predict,\n",
    "                                            labels=labels,\n",
    "                                            target_names=target_names,\n",
    "                                            output_dict=True)\n",
    "\n",
    "        \n",
    "\n",
    "        plt.clf()\n",
    "\n",
    "        sns.heatmap(pd.DataFrame(clf_report).iloc[:-1, :].T, annot=True)\n",
    "\n",
    "        img_name = f\"{clf_name}_{date_file}\"\n",
    "\n",
    "        img_path = os.path.join(path, img_name)\n",
    "\n",
    "        plt.savefig(img_path)\n",
    "\n",
    "        result['classification_report'] = classification_report(y_test, y_predict)\n",
    "\n",
    "        result['date'] = date_file\n",
    "\n",
    "        writer.writerow(result)\n",
    "        out_csv.flush()\n",
    "        print('\\t+ Evaluation...')\n",
    "        print(classification_report(y_test, y_predict))\n",
    "\n",
    "    plt.close('all')"
   ]
  }
 ],
 "metadata": {
  "interpreter": {
   "hash": "b92be554384a9b65063dc092b85fa98f16e236c2cc36010cbeef8adfee466f08"
  },
  "kernelspec": {
   "display_name": "Python 3.8.10 64-bit ('venv': venv)",
   "language": "python",
   "name": "python3"
  },
  "language_info": {
   "codemirror_mode": {
    "name": "ipython",
    "version": 3
   },
   "file_extension": ".py",
   "mimetype": "text/x-python",
   "name": "python",
   "nbconvert_exporter": "python",
   "pygments_lexer": "ipython3",
   "version": "3.9.9"
  },
  "orig_nbformat": 4
 },
 "nbformat": 4,
 "nbformat_minor": 2
}
